{
 "cells": [
  {
   "cell_type": "markdown",
   "id": "5809e45c",
   "metadata": {},
   "source": [
    "# A/B Test Challenge\n",
    "\n",
    "\n",
    "\n",
    "---\n",
    "\n",
    "#### What is an A/B Test? \n",
    "\n",
    "It is a decision making support & research methodology that allow you to measure an impact of a change in a product (e.g.: a digital product). For this challenge you will analyse the data resulting of an A/B test performed on a digital product where a new set of sponsored ads are included.\n",
    "\n",
    "\n",
    "#### Measure of success\n",
    "\n",
    "Metrics are needed to measure the success of your product. They are typically split in the following categories: \n",
    "\n",
    "- __Enganged based metrics:__ number of users, number of downloads, number of active users, user retention, etc.\n",
    "\n",
    "- __Revenue and monetization metrics:__ ads and affiliate links, subscription-based, in-app purchases, etc.\n",
    "\n",
    "- __Technical metrics:__ service level indicators (uptime of the app, downtime of the app, latency).\n",
    "\n"
   ]
  },
  {
   "cell_type": "markdown",
   "id": "37beb756",
   "metadata": {},
   "source": [
    "---\n",
    "\n",
    "## Metrics understanding\n",
    "\n",
    "In this part you must analyse the metrics involved in the test. We will focus in the following metrics:\n",
    "\n",
    "- Activity level + Daily active users (DAU).\n",
    "\n",
    "- Click-through rate (CTR)"
   ]
  },
  {
   "cell_type": "markdown",
   "id": "1656e9f4",
   "metadata": {},
   "source": [
    "### Activity level\n",
    "\n",
    "In the following part you must perform every calculation you consider necessary in order to answer the following questions:\n",
    "\n",
    "- How many activity levels you can find in the dataset (Activity level of zero means no activity).\n",
    "\n",
    "- What is the amount of users for each activity level.\n",
    "\n",
    "- How many activity levels do you have per day and how many records per each activity level.\n",
    "\n",
    "At the end of this section you must provide your conclusions about the _activity level_ of the users.\n",
    "\n",
    "__Dataset:__ `activity_pretest.csv`"
   ]
  },
  {
   "cell_type": "code",
   "execution_count": 1,
   "id": "560a5c8f",
   "metadata": {},
   "outputs": [
    {
     "data": {
      "text/html": [
       "<div>\n",
       "<style scoped>\n",
       "    .dataframe tbody tr th:only-of-type {\n",
       "        vertical-align: middle;\n",
       "    }\n",
       "\n",
       "    .dataframe tbody tr th {\n",
       "        vertical-align: top;\n",
       "    }\n",
       "\n",
       "    .dataframe thead th {\n",
       "        text-align: right;\n",
       "    }\n",
       "</style>\n",
       "<table border=\"1\" class=\"dataframe\">\n",
       "  <thead>\n",
       "    <tr style=\"text-align: right;\">\n",
       "      <th></th>\n",
       "      <th>userid</th>\n",
       "      <th>dt</th>\n",
       "      <th>activity_level</th>\n",
       "    </tr>\n",
       "  </thead>\n",
       "  <tbody>\n",
       "    <tr>\n",
       "      <th>0</th>\n",
       "      <td>a5b70ae7-f07c-4773-9df4-ce112bc9dc48</td>\n",
       "      <td>2021-10-01</td>\n",
       "      <td>0</td>\n",
       "    </tr>\n",
       "    <tr>\n",
       "      <th>1</th>\n",
       "      <td>d2646662-269f-49de-aab1-8776afced9a3</td>\n",
       "      <td>2021-10-01</td>\n",
       "      <td>0</td>\n",
       "    </tr>\n",
       "    <tr>\n",
       "      <th>2</th>\n",
       "      <td>c4d1cfa8-283d-49ad-a894-90aedc39c798</td>\n",
       "      <td>2021-10-01</td>\n",
       "      <td>0</td>\n",
       "    </tr>\n",
       "    <tr>\n",
       "      <th>3</th>\n",
       "      <td>6889f87f-5356-4904-a35a-6ea5020011db</td>\n",
       "      <td>2021-10-01</td>\n",
       "      <td>0</td>\n",
       "    </tr>\n",
       "    <tr>\n",
       "      <th>4</th>\n",
       "      <td>dbee604c-474a-4c9d-b013-508e5a0e3059</td>\n",
       "      <td>2021-10-01</td>\n",
       "      <td>0</td>\n",
       "    </tr>\n",
       "    <tr>\n",
       "      <th>...</th>\n",
       "      <td>...</td>\n",
       "      <td>...</td>\n",
       "      <td>...</td>\n",
       "    </tr>\n",
       "    <tr>\n",
       "      <th>1859995</th>\n",
       "      <td>200d65e6-b1ce-4a47-8c2b-946db5c5a3a0</td>\n",
       "      <td>2021-10-31</td>\n",
       "      <td>20</td>\n",
       "    </tr>\n",
       "    <tr>\n",
       "      <th>1859996</th>\n",
       "      <td>535dafe4-de7c-4b56-acf6-aa94f21653bc</td>\n",
       "      <td>2021-10-31</td>\n",
       "      <td>20</td>\n",
       "    </tr>\n",
       "    <tr>\n",
       "      <th>1859997</th>\n",
       "      <td>0428ca3c-e666-4ef4-8588-3a2af904a123</td>\n",
       "      <td>2021-10-31</td>\n",
       "      <td>20</td>\n",
       "    </tr>\n",
       "    <tr>\n",
       "      <th>1859998</th>\n",
       "      <td>a8cd1579-44d4-48b3-b3d6-47ae5197dbc6</td>\n",
       "      <td>2021-10-31</td>\n",
       "      <td>20</td>\n",
       "    </tr>\n",
       "    <tr>\n",
       "      <th>1859999</th>\n",
       "      <td>bac5da9e-ef79-4ae9-9efe-cd6eca093db2</td>\n",
       "      <td>2021-10-31</td>\n",
       "      <td>20</td>\n",
       "    </tr>\n",
       "  </tbody>\n",
       "</table>\n",
       "<p>1860000 rows × 3 columns</p>\n",
       "</div>"
      ],
      "text/plain": [
       "                                       userid          dt  activity_level\n",
       "0        a5b70ae7-f07c-4773-9df4-ce112bc9dc48  2021-10-01               0\n",
       "1        d2646662-269f-49de-aab1-8776afced9a3  2021-10-01               0\n",
       "2        c4d1cfa8-283d-49ad-a894-90aedc39c798  2021-10-01               0\n",
       "3        6889f87f-5356-4904-a35a-6ea5020011db  2021-10-01               0\n",
       "4        dbee604c-474a-4c9d-b013-508e5a0e3059  2021-10-01               0\n",
       "...                                       ...         ...             ...\n",
       "1859995  200d65e6-b1ce-4a47-8c2b-946db5c5a3a0  2021-10-31              20\n",
       "1859996  535dafe4-de7c-4b56-acf6-aa94f21653bc  2021-10-31              20\n",
       "1859997  0428ca3c-e666-4ef4-8588-3a2af904a123  2021-10-31              20\n",
       "1859998  a8cd1579-44d4-48b3-b3d6-47ae5197dbc6  2021-10-31              20\n",
       "1859999  bac5da9e-ef79-4ae9-9efe-cd6eca093db2  2021-10-31              20\n",
       "\n",
       "[1860000 rows x 3 columns]"
      ]
     },
     "execution_count": 1,
     "metadata": {},
     "output_type": "execute_result"
    }
   ],
   "source": [
    "# your-code\n",
    "import pandas as pd\n",
    "activity = pd.read_csv(\"./abtest/activity_pretest.csv\")\n",
    "activity\n"
   ]
  },
  {
   "cell_type": "markdown",
   "id": "2a033f4f",
   "metadata": {},
   "source": [
    "### Daily active users (DAU)\n",
    "\n",
    "![ab_test](./img/user_activity_ab_testing.JPG)\n",
    "\n",
    "\n",
    "The daily active users (DAU) refers to the amount of users that are active per day (activity level of zero means no activity). You must perform the calculation of this metric and provide your insights about it.\n",
    "\n",
    "__Dataset:__ `activity_pretest.csv`"
   ]
  },
  {
   "cell_type": "code",
   "execution_count": 2,
   "id": "02d5ba7c",
   "metadata": {},
   "outputs": [
    {
     "data": {
      "text/plain": [
       "60000"
      ]
     },
     "execution_count": 2,
     "metadata": {},
     "output_type": "execute_result"
    }
   ],
   "source": [
    "total_users = activity[\"userid\"].nunique()\n",
    "total_users"
   ]
  },
  {
   "cell_type": "code",
   "execution_count": 16,
   "id": "38006d00",
   "metadata": {},
   "outputs": [
    {
     "data": {
      "text/plain": [
       "userid            30785\n",
       "dt                30785\n",
       "activity_level    30785\n",
       "dtype: int64"
      ]
     },
     "execution_count": 16,
     "metadata": {},
     "output_type": "execute_result"
    }
   ],
   "source": [
    "# your-code\n",
    "active_users = activity.loc[(activity['activity_level'] > 0) & (activity[\"dt\"] == \"2021-10-03\")].count()\n",
    "\n",
    "active_users"
   ]
  },
  {
   "cell_type": "code",
   "execution_count": 17,
   "id": "719b7095",
   "metadata": {},
   "outputs": [],
   "source": [
    "active_users_per_date = {}\n",
    "\n",
    "\n",
    "for date in activity['dt'].unique():\n",
    "  \n",
    "    active_users_count = activity.loc[(activity['activity_level'] > 0) & (activity['dt'] == date)].count()\n",
    "    active_users_per_date[date] = active_users_count"
   ]
  },
  {
   "cell_type": "code",
   "execution_count": 14,
   "id": "5c391378",
   "metadata": {},
   "outputs": [
    {
     "data": {
      "text/plain": [
       "userid            51.056667\n",
       "dt                51.056667\n",
       "activity_level    51.056667\n",
       "dtype: float64"
      ]
     },
     "execution_count": 14,
     "metadata": {},
     "output_type": "execute_result"
    }
   ],
   "source": [
    "DAU_per_day= (active_users/total_users)*100\n",
    "DAU"
   ]
  },
  {
   "cell_type": "code",
   "execution_count": 18,
   "id": "62848307",
   "metadata": {},
   "outputs": [
    {
     "data": {
      "text/plain": [
       "50.865"
      ]
     },
     "execution_count": 18,
     "metadata": {},
     "output_type": "execute_result"
    }
   ],
   "source": [
    "DAU_average = ((active_users_count/total_users)*100).mean()\n",
    "DAU_average\n",
    "#The average activity ratio is 50.8%"
   ]
  },
  {
   "cell_type": "markdown",
   "id": "9f2b985c",
   "metadata": {},
   "source": [
    "### Click-through rate (CTR)\n",
    "\n",
    "![ab_test](./img/ad_click_through_rate_ab_testing.JPG)\n",
    "\n",
    "Click-through rate (CTR) refers to the percentage of clicks that the user perform from the total amount ads showed to that user during a certain day. You must perform the analysis of this metric (e.g.: average CTR per day) and provide your insights about it.\n",
    "\n",
    "__Dataset:__ `ctr_pretest.csv`"
   ]
  },
  {
   "cell_type": "code",
   "execution_count": 19,
   "id": "7959450f",
   "metadata": {},
   "outputs": [
    {
     "data": {
      "text/html": [
       "<div>\n",
       "<style scoped>\n",
       "    .dataframe tbody tr th:only-of-type {\n",
       "        vertical-align: middle;\n",
       "    }\n",
       "\n",
       "    .dataframe tbody tr th {\n",
       "        vertical-align: top;\n",
       "    }\n",
       "\n",
       "    .dataframe thead th {\n",
       "        text-align: right;\n",
       "    }\n",
       "</style>\n",
       "<table border=\"1\" class=\"dataframe\">\n",
       "  <thead>\n",
       "    <tr style=\"text-align: right;\">\n",
       "      <th></th>\n",
       "      <th>userid</th>\n",
       "      <th>dt</th>\n",
       "      <th>ctr</th>\n",
       "    </tr>\n",
       "  </thead>\n",
       "  <tbody>\n",
       "    <tr>\n",
       "      <th>0</th>\n",
       "      <td>4b328144-df4b-47b1-a804-09834942dce0</td>\n",
       "      <td>2021-10-01</td>\n",
       "      <td>34.28</td>\n",
       "    </tr>\n",
       "    <tr>\n",
       "      <th>1</th>\n",
       "      <td>34ace777-5e9d-40b3-a859-4145d0c35c8d</td>\n",
       "      <td>2021-10-01</td>\n",
       "      <td>34.67</td>\n",
       "    </tr>\n",
       "    <tr>\n",
       "      <th>2</th>\n",
       "      <td>8028cccf-19c3-4c0e-b5b2-e707e15d2d83</td>\n",
       "      <td>2021-10-01</td>\n",
       "      <td>34.77</td>\n",
       "    </tr>\n",
       "    <tr>\n",
       "      <th>3</th>\n",
       "      <td>652b3c9c-5e29-4bf0-9373-924687b1567e</td>\n",
       "      <td>2021-10-01</td>\n",
       "      <td>35.42</td>\n",
       "    </tr>\n",
       "    <tr>\n",
       "      <th>4</th>\n",
       "      <td>45b57434-4666-4b57-9798-35489dc1092a</td>\n",
       "      <td>2021-10-01</td>\n",
       "      <td>35.04</td>\n",
       "    </tr>\n",
       "    <tr>\n",
       "      <th>...</th>\n",
       "      <td>...</td>\n",
       "      <td>...</td>\n",
       "      <td>...</td>\n",
       "    </tr>\n",
       "    <tr>\n",
       "      <th>950870</th>\n",
       "      <td>a09a3687-b71a-4a67-b1ef-9b05c9770c4c</td>\n",
       "      <td>2021-10-31</td>\n",
       "      <td>32.33</td>\n",
       "    </tr>\n",
       "    <tr>\n",
       "      <th>950871</th>\n",
       "      <td>c843a595-b94c-42e1-b2fe-ec096070681e</td>\n",
       "      <td>2021-10-31</td>\n",
       "      <td>30.09</td>\n",
       "    </tr>\n",
       "    <tr>\n",
       "      <th>950872</th>\n",
       "      <td>edcdf0c1-3d8f-47e8-b7dd-05505749eb69</td>\n",
       "      <td>2021-10-31</td>\n",
       "      <td>35.71</td>\n",
       "    </tr>\n",
       "    <tr>\n",
       "      <th>950873</th>\n",
       "      <td>76b7a9ae-98fa-4c77-869d-594a4ef7282d</td>\n",
       "      <td>2021-10-31</td>\n",
       "      <td>34.76</td>\n",
       "    </tr>\n",
       "    <tr>\n",
       "      <th>950874</th>\n",
       "      <td>d522dfe0-63f2-40be-abf4-89221db6fa35</td>\n",
       "      <td>2021-10-31</td>\n",
       "      <td>30.91</td>\n",
       "    </tr>\n",
       "  </tbody>\n",
       "</table>\n",
       "<p>950875 rows × 3 columns</p>\n",
       "</div>"
      ],
      "text/plain": [
       "                                      userid          dt    ctr\n",
       "0       4b328144-df4b-47b1-a804-09834942dce0  2021-10-01  34.28\n",
       "1       34ace777-5e9d-40b3-a859-4145d0c35c8d  2021-10-01  34.67\n",
       "2       8028cccf-19c3-4c0e-b5b2-e707e15d2d83  2021-10-01  34.77\n",
       "3       652b3c9c-5e29-4bf0-9373-924687b1567e  2021-10-01  35.42\n",
       "4       45b57434-4666-4b57-9798-35489dc1092a  2021-10-01  35.04\n",
       "...                                      ...         ...    ...\n",
       "950870  a09a3687-b71a-4a67-b1ef-9b05c9770c4c  2021-10-31  32.33\n",
       "950871  c843a595-b94c-42e1-b2fe-ec096070681e  2021-10-31  30.09\n",
       "950872  edcdf0c1-3d8f-47e8-b7dd-05505749eb69  2021-10-31  35.71\n",
       "950873  76b7a9ae-98fa-4c77-869d-594a4ef7282d  2021-10-31  34.76\n",
       "950874  d522dfe0-63f2-40be-abf4-89221db6fa35  2021-10-31  30.91\n",
       "\n",
       "[950875 rows x 3 columns]"
      ]
     },
     "execution_count": 19,
     "metadata": {},
     "output_type": "execute_result"
    }
   ],
   "source": [
    "# your-code\n",
    "\n",
    "ctr = pd.read_csv(\"./abtest/ctr_pretest.csv\")\n",
    "ctr\n",
    "\n"
   ]
  },
  {
   "cell_type": "code",
   "execution_count": 20,
   "id": "15534e58",
   "metadata": {},
   "outputs": [
    {
     "data": {
      "text/plain": [
       "60000"
      ]
     },
     "execution_count": 20,
     "metadata": {},
     "output_type": "execute_result"
    }
   ],
   "source": [
    "total_users_ctr = ctr[\"userid\"].nunique()\n",
    "total_users_ctr"
   ]
  },
  {
   "cell_type": "code",
   "execution_count": 28,
   "id": "40f9c2f2",
   "metadata": {},
   "outputs": [],
   "source": [
    "ctr_per_date = {}\n",
    "\n",
    "\n",
    "for x in ctr['dt'].unique():\n",
    "    ctr_average_per_date = ctr[\"ctr\"].mean()\n",
    "    ctr_per_date[x] = ctr_average_per_date"
   ]
  },
  {
   "cell_type": "code",
   "execution_count": 29,
   "id": "b2d9b3e4",
   "metadata": {},
   "outputs": [
    {
     "data": {
      "text/plain": [
       "33.00024155646116"
      ]
     },
     "execution_count": 29,
     "metadata": {},
     "output_type": "execute_result"
    }
   ],
   "source": [
    "ctr_average_per_date"
   ]
  },
  {
   "cell_type": "markdown",
   "id": "2303aae2",
   "metadata": {},
   "source": [
    "---\n",
    "\n",
    "## Pretest metrics \n",
    "\n",
    "In this section you will perform the analysis of the metrics using the dataset that includes the result for the test and control groups, but only for the pretest data (i.e.: prior to November 1st, 2021). You must provide insights about the metrics (__Activity level__, __DAU__ and __CTR__) and also perform an hyphotesis test in order to determine whether there is any statistical significant difference between the groups prior to the start of the experiment. You must try different approaches (i.e.: __z-test__ and __t-test__) and compare the results.\n",
    "\n",
    "\n",
    "__Datasets:__ `activity_all.csv`, `ctr_all.csv`"
   ]
  },
  {
   "cell_type": "markdown",
   "id": "f8a51d75",
   "metadata": {},
   "source": [
    "---\n",
    "\n",
    "## Experiment metrics \n",
    "\n",
    "In this section you must perform the same analysis as in the previous section, but using the data generated during the experiment (i.e.: after November 1st, 2021). You must provide insights about the metrics (__Activity level__, __DAU__ and __CTR__) and also perform an hyphotesis test in order to determine whether there is any statistical significant difference between the groups during the experiment. You must try different approaches (i.e.: __z-test__ and __t-test__) and compare the results.\n",
    "\n",
    "\n",
    "__Datasets:__ `activity_all.csv`, `ctr_all.csv`"
   ]
  },
  {
   "cell_type": "code",
   "execution_count": 87,
   "id": "7ef98d1e",
   "metadata": {},
   "outputs": [],
   "source": [
    "from statsmodels.stats.weightstats import ztest as ztest"
   ]
  },
  {
   "cell_type": "code",
   "execution_count": 30,
   "id": "66d2637f",
   "metadata": {},
   "outputs": [
    {
     "data": {
      "text/html": [
       "<div>\n",
       "<style scoped>\n",
       "    .dataframe tbody tr th:only-of-type {\n",
       "        vertical-align: middle;\n",
       "    }\n",
       "\n",
       "    .dataframe tbody tr th {\n",
       "        vertical-align: top;\n",
       "    }\n",
       "\n",
       "    .dataframe thead th {\n",
       "        text-align: right;\n",
       "    }\n",
       "</style>\n",
       "<table border=\"1\" class=\"dataframe\">\n",
       "  <thead>\n",
       "    <tr style=\"text-align: right;\">\n",
       "      <th></th>\n",
       "      <th>userid</th>\n",
       "      <th>dt</th>\n",
       "      <th>groupid</th>\n",
       "      <th>activity_level</th>\n",
       "    </tr>\n",
       "  </thead>\n",
       "  <tbody>\n",
       "    <tr>\n",
       "      <th>0</th>\n",
       "      <td>a5b70ae7-f07c-4773-9df4-ce112bc9dc48</td>\n",
       "      <td>2021-10-01</td>\n",
       "      <td>0</td>\n",
       "      <td>0</td>\n",
       "    </tr>\n",
       "    <tr>\n",
       "      <th>1</th>\n",
       "      <td>d2646662-269f-49de-aab1-8776afced9a3</td>\n",
       "      <td>2021-10-01</td>\n",
       "      <td>0</td>\n",
       "      <td>0</td>\n",
       "    </tr>\n",
       "    <tr>\n",
       "      <th>2</th>\n",
       "      <td>c4d1cfa8-283d-49ad-a894-90aedc39c798</td>\n",
       "      <td>2021-10-01</td>\n",
       "      <td>1</td>\n",
       "      <td>0</td>\n",
       "    </tr>\n",
       "    <tr>\n",
       "      <th>3</th>\n",
       "      <td>6889f87f-5356-4904-a35a-6ea5020011db</td>\n",
       "      <td>2021-10-01</td>\n",
       "      <td>0</td>\n",
       "      <td>0</td>\n",
       "    </tr>\n",
       "    <tr>\n",
       "      <th>4</th>\n",
       "      <td>dbee604c-474a-4c9d-b013-508e5a0e3059</td>\n",
       "      <td>2021-10-01</td>\n",
       "      <td>1</td>\n",
       "      <td>0</td>\n",
       "    </tr>\n",
       "    <tr>\n",
       "      <th>...</th>\n",
       "      <td>...</td>\n",
       "      <td>...</td>\n",
       "      <td>...</td>\n",
       "      <td>...</td>\n",
       "    </tr>\n",
       "    <tr>\n",
       "      <th>3659995</th>\n",
       "      <td>f0126b50-ad74-4480-9250-41b50a408932</td>\n",
       "      <td>2021-11-30</td>\n",
       "      <td>0</td>\n",
       "      <td>20</td>\n",
       "    </tr>\n",
       "    <tr>\n",
       "      <th>3659996</th>\n",
       "      <td>6ffe1efe-2e5d-427f-95ff-cc862c46c798</td>\n",
       "      <td>2021-11-30</td>\n",
       "      <td>1</td>\n",
       "      <td>20</td>\n",
       "    </tr>\n",
       "    <tr>\n",
       "      <th>3659997</th>\n",
       "      <td>f2073207-25dd-4127-a893-b70106d5ead7</td>\n",
       "      <td>2021-11-30</td>\n",
       "      <td>0</td>\n",
       "      <td>20</td>\n",
       "    </tr>\n",
       "    <tr>\n",
       "      <th>3659998</th>\n",
       "      <td>0416f2be-3ab8-481b-873c-3678b4705ecf</td>\n",
       "      <td>2021-11-30</td>\n",
       "      <td>1</td>\n",
       "      <td>20</td>\n",
       "    </tr>\n",
       "    <tr>\n",
       "      <th>3659999</th>\n",
       "      <td>fa0d9e1b-8e7e-492b-9799-5b24de8d04cc</td>\n",
       "      <td>2021-11-30</td>\n",
       "      <td>0</td>\n",
       "      <td>20</td>\n",
       "    </tr>\n",
       "  </tbody>\n",
       "</table>\n",
       "<p>3660000 rows × 4 columns</p>\n",
       "</div>"
      ],
      "text/plain": [
       "                                       userid          dt  groupid  \\\n",
       "0        a5b70ae7-f07c-4773-9df4-ce112bc9dc48  2021-10-01        0   \n",
       "1        d2646662-269f-49de-aab1-8776afced9a3  2021-10-01        0   \n",
       "2        c4d1cfa8-283d-49ad-a894-90aedc39c798  2021-10-01        1   \n",
       "3        6889f87f-5356-4904-a35a-6ea5020011db  2021-10-01        0   \n",
       "4        dbee604c-474a-4c9d-b013-508e5a0e3059  2021-10-01        1   \n",
       "...                                       ...         ...      ...   \n",
       "3659995  f0126b50-ad74-4480-9250-41b50a408932  2021-11-30        0   \n",
       "3659996  6ffe1efe-2e5d-427f-95ff-cc862c46c798  2021-11-30        1   \n",
       "3659997  f2073207-25dd-4127-a893-b70106d5ead7  2021-11-30        0   \n",
       "3659998  0416f2be-3ab8-481b-873c-3678b4705ecf  2021-11-30        1   \n",
       "3659999  fa0d9e1b-8e7e-492b-9799-5b24de8d04cc  2021-11-30        0   \n",
       "\n",
       "         activity_level  \n",
       "0                     0  \n",
       "1                     0  \n",
       "2                     0  \n",
       "3                     0  \n",
       "4                     0  \n",
       "...                 ...  \n",
       "3659995              20  \n",
       "3659996              20  \n",
       "3659997              20  \n",
       "3659998              20  \n",
       "3659999              20  \n",
       "\n",
       "[3660000 rows x 4 columns]"
      ]
     },
     "execution_count": 30,
     "metadata": {},
     "output_type": "execute_result"
    }
   ],
   "source": [
    "# your-code\n",
    "\n",
    "activity_all = pd.read_csv(\"./abtest/activity_all.csv\")\n",
    "activity_all\n"
   ]
  },
  {
   "cell_type": "code",
   "execution_count": 31,
   "id": "c9c59360",
   "metadata": {},
   "outputs": [
    {
     "data": {
      "text/html": [
       "<div>\n",
       "<style scoped>\n",
       "    .dataframe tbody tr th:only-of-type {\n",
       "        vertical-align: middle;\n",
       "    }\n",
       "\n",
       "    .dataframe tbody tr th {\n",
       "        vertical-align: top;\n",
       "    }\n",
       "\n",
       "    .dataframe thead th {\n",
       "        text-align: right;\n",
       "    }\n",
       "</style>\n",
       "<table border=\"1\" class=\"dataframe\">\n",
       "  <thead>\n",
       "    <tr style=\"text-align: right;\">\n",
       "      <th></th>\n",
       "      <th>userid</th>\n",
       "      <th>dt</th>\n",
       "      <th>groupid</th>\n",
       "      <th>ctr</th>\n",
       "    </tr>\n",
       "  </thead>\n",
       "  <tbody>\n",
       "    <tr>\n",
       "      <th>0</th>\n",
       "      <td>60389fa7-2d71-4cdf-831c-c2bb277ffa1e</td>\n",
       "      <td>2021-11-13</td>\n",
       "      <td>0</td>\n",
       "      <td>31.81</td>\n",
       "    </tr>\n",
       "    <tr>\n",
       "      <th>1</th>\n",
       "      <td>b59cb225-d160-4851-92d2-7cc8120a2f63</td>\n",
       "      <td>2021-11-13</td>\n",
       "      <td>0</td>\n",
       "      <td>30.46</td>\n",
       "    </tr>\n",
       "    <tr>\n",
       "      <th>2</th>\n",
       "      <td>aa336050-934e-453f-a5b0-dd881fcd114e</td>\n",
       "      <td>2021-11-13</td>\n",
       "      <td>0</td>\n",
       "      <td>34.25</td>\n",
       "    </tr>\n",
       "    <tr>\n",
       "      <th>3</th>\n",
       "      <td>8df767f4-a10f-4322-a722-676b7e02b372</td>\n",
       "      <td>2021-11-13</td>\n",
       "      <td>0</td>\n",
       "      <td>34.92</td>\n",
       "    </tr>\n",
       "    <tr>\n",
       "      <th>4</th>\n",
       "      <td>a74762ed-4da0-42ab-91d2-40d7e808dfe9</td>\n",
       "      <td>2021-11-13</td>\n",
       "      <td>0</td>\n",
       "      <td>34.95</td>\n",
       "    </tr>\n",
       "    <tr>\n",
       "      <th>...</th>\n",
       "      <td>...</td>\n",
       "      <td>...</td>\n",
       "      <td>...</td>\n",
       "      <td>...</td>\n",
       "    </tr>\n",
       "    <tr>\n",
       "      <th>2303403</th>\n",
       "      <td>932e0348-ea2d-4b98-8782-aa84420f0796</td>\n",
       "      <td>2021-11-12</td>\n",
       "      <td>1</td>\n",
       "      <td>37.27</td>\n",
       "    </tr>\n",
       "    <tr>\n",
       "      <th>2303404</th>\n",
       "      <td>6775a825-6d3d-4dc3-9335-cad061736752</td>\n",
       "      <td>2021-11-12</td>\n",
       "      <td>1</td>\n",
       "      <td>39.14</td>\n",
       "    </tr>\n",
       "    <tr>\n",
       "      <th>2303405</th>\n",
       "      <td>a7b55365-21f1-4123-b2b5-485a8c7b98da</td>\n",
       "      <td>2021-11-12</td>\n",
       "      <td>1</td>\n",
       "      <td>40.05</td>\n",
       "    </tr>\n",
       "    <tr>\n",
       "      <th>2303406</th>\n",
       "      <td>a6fa937c-6f40-4f04-b15b-f1de09e179db</td>\n",
       "      <td>2021-11-12</td>\n",
       "      <td>1</td>\n",
       "      <td>38.14</td>\n",
       "    </tr>\n",
       "    <tr>\n",
       "      <th>2303407</th>\n",
       "      <td>16172f98-c824-402b-afaf-bbdfacba2eb2</td>\n",
       "      <td>2021-11-12</td>\n",
       "      <td>1</td>\n",
       "      <td>37.98</td>\n",
       "    </tr>\n",
       "  </tbody>\n",
       "</table>\n",
       "<p>2303408 rows × 4 columns</p>\n",
       "</div>"
      ],
      "text/plain": [
       "                                       userid          dt  groupid    ctr\n",
       "0        60389fa7-2d71-4cdf-831c-c2bb277ffa1e  2021-11-13        0  31.81\n",
       "1        b59cb225-d160-4851-92d2-7cc8120a2f63  2021-11-13        0  30.46\n",
       "2        aa336050-934e-453f-a5b0-dd881fcd114e  2021-11-13        0  34.25\n",
       "3        8df767f4-a10f-4322-a722-676b7e02b372  2021-11-13        0  34.92\n",
       "4        a74762ed-4da0-42ab-91d2-40d7e808dfe9  2021-11-13        0  34.95\n",
       "...                                       ...         ...      ...    ...\n",
       "2303403  932e0348-ea2d-4b98-8782-aa84420f0796  2021-11-12        1  37.27\n",
       "2303404  6775a825-6d3d-4dc3-9335-cad061736752  2021-11-12        1  39.14\n",
       "2303405  a7b55365-21f1-4123-b2b5-485a8c7b98da  2021-11-12        1  40.05\n",
       "2303406  a6fa937c-6f40-4f04-b15b-f1de09e179db  2021-11-12        1  38.14\n",
       "2303407  16172f98-c824-402b-afaf-bbdfacba2eb2  2021-11-12        1  37.98\n",
       "\n",
       "[2303408 rows x 4 columns]"
      ]
     },
     "execution_count": 31,
     "metadata": {},
     "output_type": "execute_result"
    }
   ],
   "source": [
    "ctr_all = pd.read_csv(\"./abtest/ctr_all.csv\")\n",
    "ctr_all"
   ]
  },
  {
   "cell_type": "code",
   "execution_count": 34,
   "id": "ef373a0f",
   "metadata": {},
   "outputs": [
    {
     "data": {
      "text/plain": [
       "60000"
      ]
     },
     "execution_count": 34,
     "metadata": {},
     "output_type": "execute_result"
    }
   ],
   "source": [
    "total_users_all = activity_all[\"userid\"].nunique()\n",
    "total_users_all"
   ]
  },
  {
   "cell_type": "code",
   "execution_count": 57,
   "id": "5f49fede",
   "metadata": {},
   "outputs": [],
   "source": [
    "filtered_df_pre = activity_all.loc[(activity_all['dt'] >= '2021-10-01')\n",
    "                     & (activity_all['dt'] < '2021-11-21')]\n",
    "filtered_df_post = activity_all.loc[(activity_all['dt'] >= '2021-11-21')\n",
    "                     & (activity_all['dt'] <= '2021-11-30')]"
   ]
  },
  {
   "cell_type": "code",
   "execution_count": 58,
   "id": "a08381f0",
   "metadata": {},
   "outputs": [
    {
     "data": {
      "text/html": [
       "<div>\n",
       "<style scoped>\n",
       "    .dataframe tbody tr th:only-of-type {\n",
       "        vertical-align: middle;\n",
       "    }\n",
       "\n",
       "    .dataframe tbody tr th {\n",
       "        vertical-align: top;\n",
       "    }\n",
       "\n",
       "    .dataframe thead th {\n",
       "        text-align: right;\n",
       "    }\n",
       "</style>\n",
       "<table border=\"1\" class=\"dataframe\">\n",
       "  <thead>\n",
       "    <tr style=\"text-align: right;\">\n",
       "      <th></th>\n",
       "      <th>userid</th>\n",
       "      <th>dt</th>\n",
       "      <th>groupid</th>\n",
       "      <th>activity_level</th>\n",
       "    </tr>\n",
       "  </thead>\n",
       "  <tbody>\n",
       "    <tr>\n",
       "      <th>0</th>\n",
       "      <td>a5b70ae7-f07c-4773-9df4-ce112bc9dc48</td>\n",
       "      <td>2021-10-01</td>\n",
       "      <td>0</td>\n",
       "      <td>0</td>\n",
       "    </tr>\n",
       "    <tr>\n",
       "      <th>1</th>\n",
       "      <td>d2646662-269f-49de-aab1-8776afced9a3</td>\n",
       "      <td>2021-10-01</td>\n",
       "      <td>0</td>\n",
       "      <td>0</td>\n",
       "    </tr>\n",
       "    <tr>\n",
       "      <th>2</th>\n",
       "      <td>c4d1cfa8-283d-49ad-a894-90aedc39c798</td>\n",
       "      <td>2021-10-01</td>\n",
       "      <td>1</td>\n",
       "      <td>0</td>\n",
       "    </tr>\n",
       "    <tr>\n",
       "      <th>3</th>\n",
       "      <td>6889f87f-5356-4904-a35a-6ea5020011db</td>\n",
       "      <td>2021-10-01</td>\n",
       "      <td>0</td>\n",
       "      <td>0</td>\n",
       "    </tr>\n",
       "    <tr>\n",
       "      <th>4</th>\n",
       "      <td>dbee604c-474a-4c9d-b013-508e5a0e3059</td>\n",
       "      <td>2021-10-01</td>\n",
       "      <td>1</td>\n",
       "      <td>0</td>\n",
       "    </tr>\n",
       "    <tr>\n",
       "      <th>...</th>\n",
       "      <td>...</td>\n",
       "      <td>...</td>\n",
       "      <td>...</td>\n",
       "      <td>...</td>\n",
       "    </tr>\n",
       "    <tr>\n",
       "      <th>3648717</th>\n",
       "      <td>bb8e43c6-10fb-4bc2-b405-d12fa552085b</td>\n",
       "      <td>2021-11-20</td>\n",
       "      <td>0</td>\n",
       "      <td>20</td>\n",
       "    </tr>\n",
       "    <tr>\n",
       "      <th>3648718</th>\n",
       "      <td>34c311d8-9627-4894-8189-98625f924435</td>\n",
       "      <td>2021-11-20</td>\n",
       "      <td>1</td>\n",
       "      <td>20</td>\n",
       "    </tr>\n",
       "    <tr>\n",
       "      <th>3648719</th>\n",
       "      <td>520e467b-a702-4d19-b455-b27a76ce0c07</td>\n",
       "      <td>2021-11-20</td>\n",
       "      <td>1</td>\n",
       "      <td>20</td>\n",
       "    </tr>\n",
       "    <tr>\n",
       "      <th>3648720</th>\n",
       "      <td>c631da62-d2ad-4327-ba85-4f7994fe9e27</td>\n",
       "      <td>2021-11-20</td>\n",
       "      <td>0</td>\n",
       "      <td>20</td>\n",
       "    </tr>\n",
       "    <tr>\n",
       "      <th>3648721</th>\n",
       "      <td>916874a6-333a-4133-a62a-b3cf8740e887</td>\n",
       "      <td>2021-11-20</td>\n",
       "      <td>0</td>\n",
       "      <td>20</td>\n",
       "    </tr>\n",
       "  </tbody>\n",
       "</table>\n",
       "<p>3060000 rows × 4 columns</p>\n",
       "</div>"
      ],
      "text/plain": [
       "                                       userid         dt  groupid  \\\n",
       "0        a5b70ae7-f07c-4773-9df4-ce112bc9dc48 2021-10-01        0   \n",
       "1        d2646662-269f-49de-aab1-8776afced9a3 2021-10-01        0   \n",
       "2        c4d1cfa8-283d-49ad-a894-90aedc39c798 2021-10-01        1   \n",
       "3        6889f87f-5356-4904-a35a-6ea5020011db 2021-10-01        0   \n",
       "4        dbee604c-474a-4c9d-b013-508e5a0e3059 2021-10-01        1   \n",
       "...                                       ...        ...      ...   \n",
       "3648717  bb8e43c6-10fb-4bc2-b405-d12fa552085b 2021-11-20        0   \n",
       "3648718  34c311d8-9627-4894-8189-98625f924435 2021-11-20        1   \n",
       "3648719  520e467b-a702-4d19-b455-b27a76ce0c07 2021-11-20        1   \n",
       "3648720  c631da62-d2ad-4327-ba85-4f7994fe9e27 2021-11-20        0   \n",
       "3648721  916874a6-333a-4133-a62a-b3cf8740e887 2021-11-20        0   \n",
       "\n",
       "         activity_level  \n",
       "0                     0  \n",
       "1                     0  \n",
       "2                     0  \n",
       "3                     0  \n",
       "4                     0  \n",
       "...                 ...  \n",
       "3648717              20  \n",
       "3648718              20  \n",
       "3648719              20  \n",
       "3648720              20  \n",
       "3648721              20  \n",
       "\n",
       "[3060000 rows x 4 columns]"
      ]
     },
     "execution_count": 58,
     "metadata": {},
     "output_type": "execute_result"
    }
   ],
   "source": [
    "filtered_df_pre"
   ]
  },
  {
   "cell_type": "code",
   "execution_count": 76,
   "id": "912a4151",
   "metadata": {},
   "outputs": [],
   "source": [
    "active_users_per_date_pre_1 = {}\n",
    "\n",
    "\n",
    "for date in filtered_df_pre['dt'].unique():\n",
    "  \n",
    "    active_users_count_1 = filtered_df_pre.loc[(filtered_df_pre['activity_level'] > 0) & (filtered_df_pre['groupid'] == 1)& (filtered_df_pre['dt'] == date)].count()\n",
    "    active_users_per_date_pre_1[date] = active_users_count_1"
   ]
  },
  {
   "cell_type": "code",
   "execution_count": 77,
   "id": "ad422638",
   "metadata": {},
   "outputs": [],
   "source": [
    "active_users_per_date_pre_0 = {}\n",
    "\n",
    "\n",
    "for date in filtered_df_pre['dt'].unique():\n",
    "  \n",
    "    active_users_count_0 = filtered_df_pre.loc[(filtered_df_pre['activity_level'] > 0) & (filtered_df_pre['groupid'] == 0)& (filtered_df_pre['dt'] == date)].count()\n",
    "    active_users_per_date_pre_0[date] = active_users_count_0"
   ]
  },
  {
   "cell_type": "code",
   "execution_count": 78,
   "id": "014ded17",
   "metadata": {},
   "outputs": [
    {
     "data": {
      "text/plain": [
       "48.88166666666667"
      ]
     },
     "execution_count": 78,
     "metadata": {},
     "output_type": "execute_result"
    }
   ],
   "source": [
    "DAU_pre_1 = ((active_users_count_1/total_users_all)*100).mean()\n",
    "DAU_pre_0 = ((active_users_count_0/total_users_all)*100).mean()\n",
    "DAU_pre_1\n"
   ]
  },
  {
   "cell_type": "code",
   "execution_count": 79,
   "id": "5e8d0949",
   "metadata": {
    "scrolled": true
   },
   "outputs": [
    {
     "data": {
      "text/plain": [
       "26.816666666666666"
      ]
     },
     "execution_count": 79,
     "metadata": {},
     "output_type": "execute_result"
    }
   ],
   "source": [
    "DAU_pre_0"
   ]
  },
  {
   "cell_type": "code",
   "execution_count": 81,
   "id": "8ee78cc9",
   "metadata": {},
   "outputs": [],
   "source": [
    "active_users_per_date_post_1 = {}\n",
    "\n",
    "\n",
    "for date in filtered_df_post['dt'].unique():\n",
    "  \n",
    "    active_users_count_post_1 = filtered_df_post.loc[(filtered_df_post['activity_level'] > 0) & (filtered_df_post['groupid'] == 1)& (filtered_df_post['dt'] == date)].count()\n",
    "    active_users_per_date_post_1[date] = active_users_count_post_1"
   ]
  },
  {
   "cell_type": "code",
   "execution_count": 83,
   "id": "e7ffeb7b",
   "metadata": {},
   "outputs": [],
   "source": [
    "active_users_per_date_post_0 = {}\n",
    "\n",
    "\n",
    "for date in filtered_df_post['dt'].unique():\n",
    "  \n",
    "    active_users_count_post_0 = filtered_df_post.loc[(filtered_df_post['activity_level'] > 0) & (filtered_df_post['groupid'] == 0)& (filtered_df_post['dt'] == date)].count()\n",
    "    active_users_per_date_post_0[date] = active_users_count_post_0"
   ]
  },
  {
   "cell_type": "code",
   "execution_count": 85,
   "id": "776c7fc4",
   "metadata": {},
   "outputs": [
    {
     "data": {
      "text/plain": [
       "48.97"
      ]
     },
     "execution_count": 85,
     "metadata": {},
     "output_type": "execute_result"
    }
   ],
   "source": [
    "DAU_post_1 = ((active_users_count_post_1/total_users_all)*100).mean()\n",
    "DAU_post_0 = ((active_users_count_post_0/total_users_all)*100).mean()\n",
    "DAU_post_1"
   ]
  },
  {
   "cell_type": "code",
   "execution_count": 86,
   "id": "b45b7749",
   "metadata": {},
   "outputs": [
    {
     "data": {
      "text/plain": [
       "25.319999999999997"
      ]
     },
     "execution_count": 86,
     "metadata": {},
     "output_type": "execute_result"
    }
   ],
   "source": [
    "DAU_post_0"
   ]
  },
  {
   "cell_type": "code",
   "execution_count": 88,
   "id": "6928c3fc",
   "metadata": {},
   "outputs": [],
   "source": [
    "prevalues = [DAU_pre_0, DAU_pre_1]\n",
    "postvalues = [DAU_post_0, DAU_post_1]"
   ]
  },
  {
   "cell_type": "code",
   "execution_count": 89,
   "id": "6c4857e4",
   "metadata": {},
   "outputs": [
    {
     "data": {
      "text/plain": [
       "(0.043541246318900925, 0.9652700858780925)"
      ]
     },
     "execution_count": 89,
     "metadata": {},
     "output_type": "execute_result"
    }
   ],
   "source": [
    "ztest(prevalues, postvalues, value=0) "
   ]
  },
  {
   "cell_type": "code",
   "execution_count": 101,
   "id": "2767f58e",
   "metadata": {},
   "outputs": [],
   "source": [
    "filtered_dfctr_pre1 = ctr_all.loc[(ctr_all['dt'] >= '2021-10-01')\n",
    "                                 & (ctr_all['dt'] < '2021-11-21')\n",
    "                                 & (ctr_all['groupid'] == 1)]\n",
    "filtered_dfctr_post1 = ctr_all.loc[(ctr_all['dt'] >= '2021-11-21')\n",
    "                     & (ctr_all['dt'] <= '2021-11-30') & (ctr_all['groupid'] == 1)]"
   ]
  },
  {
   "cell_type": "code",
   "execution_count": 102,
   "id": "6524f573",
   "metadata": {},
   "outputs": [],
   "source": [
    "filtered_dfctr_pre0 = ctr_all.loc[(ctr_all['dt'] >= '2021-10-01')\n",
    "                                 & (ctr_all['dt'] < '2021-11-21')\n",
    "                                 & (ctr_all['groupid'] == 0)]\n",
    "filtered_dfctr_post0 = ctr_all.loc[(ctr_all['dt'] >= '2021-11-21')\n",
    "                     & (ctr_all['dt'] <= '2021-11-30') & (ctr_all['groupid'] == 0)]"
   ]
  },
  {
   "cell_type": "code",
   "execution_count": 106,
   "id": "15573e0c",
   "metadata": {},
   "outputs": [],
   "source": [
    "ctr_per_date_pre0 = {}\n",
    "\n",
    "\n",
    "for x in filtered_dfctr_pre0['dt'].unique():\n",
    "    ctr_average_per_date_pre0 = filtered_dfctr_pre0[\"ctr\"].mean()\n",
    "    ctr_per_date_pre0[x] = ctr_average_per_date_pre0"
   ]
  },
  {
   "cell_type": "code",
   "execution_count": 104,
   "id": "dc4a7406",
   "metadata": {},
   "outputs": [],
   "source": [
    "ctr_per_date_pre1 = {}\n",
    "\n",
    "\n",
    "for x in filtered_dfctr_pre1['dt'].unique():\n",
    "    ctr_average_per_date_pre1 = filtered_dfctr_pre1[\"ctr\"].mean()\n",
    "    ctr_per_date_pre1[x] = ctr_average_per_date_pre1"
   ]
  },
  {
   "cell_type": "code",
   "execution_count": 107,
   "id": "bcbdf286",
   "metadata": {},
   "outputs": [],
   "source": [
    "ctr_per_date_post0 = {}\n",
    "\n",
    "\n",
    "for x in filtered_dfctr_post0['dt'].unique():\n",
    "    ctr_average_per_date_post0 = filtered_dfctr_post0[\"ctr\"].mean()\n",
    "    ctr_per_date_post0[x] = ctr_average_per_date_post0"
   ]
  },
  {
   "cell_type": "code",
   "execution_count": 105,
   "id": "17291e80",
   "metadata": {},
   "outputs": [],
   "source": [
    "ctr_per_date_post1 = {}\n",
    "\n",
    "\n",
    "for x in filtered_dfctr_post1['dt'].unique():\n",
    "    ctr_average_per_date_post1 = filtered_dfctr_post1[\"ctr\"].mean()\n",
    "    ctr_per_date_post1[x] = ctr_average_per_date_post1"
   ]
  },
  {
   "cell_type": "code",
   "execution_count": 108,
   "id": "30e28e40",
   "metadata": {},
   "outputs": [
    {
     "data": {
      "text/plain": [
       "32.99960369409587"
      ]
     },
     "execution_count": 108,
     "metadata": {},
     "output_type": "execute_result"
    }
   ],
   "source": [
    "ctr_average_per_date_pre0"
   ]
  },
  {
   "cell_type": "code",
   "execution_count": 109,
   "id": "615496f8",
   "metadata": {},
   "outputs": [
    {
     "data": {
      "text/plain": [
       "35.75883772832273"
      ]
     },
     "execution_count": 109,
     "metadata": {},
     "output_type": "execute_result"
    }
   ],
   "source": [
    "ctr_average_per_date_pre1"
   ]
  },
  {
   "cell_type": "code",
   "execution_count": 110,
   "id": "977a2f0f",
   "metadata": {},
   "outputs": [
    {
     "data": {
      "text/plain": [
       "32.9955344038649"
      ]
     },
     "execution_count": 110,
     "metadata": {},
     "output_type": "execute_result"
    }
   ],
   "source": [
    "ctr_average_per_date_post0"
   ]
  },
  {
   "cell_type": "code",
   "execution_count": 111,
   "id": "3c7dc590",
   "metadata": {
    "scrolled": true
   },
   "outputs": [
    {
     "data": {
      "text/plain": [
       "37.99125890566141"
      ]
     },
     "execution_count": 111,
     "metadata": {},
     "output_type": "execute_result"
    }
   ],
   "source": [
    "ctr_average_per_date_post1"
   ]
  },
  {
   "cell_type": "code",
   "execution_count": 112,
   "id": "6272d8b3",
   "metadata": {},
   "outputs": [],
   "source": [
    "prevaluesctr = [ctr_average_per_date_pre0, ctr_average_per_date_pre1]\n",
    "postvaluesctr = [ctr_average_per_date_post0, ctr_average_per_date_post1]"
   ]
  },
  {
   "cell_type": "code",
   "execution_count": 113,
   "id": "7499f0b5",
   "metadata": {},
   "outputs": [
    {
     "data": {
      "text/plain": [
       "(-0.39045470013855804, 0.6962003462918562)"
      ]
     },
     "execution_count": 113,
     "metadata": {},
     "output_type": "execute_result"
    }
   ],
   "source": [
    "ztest(prevaluesctr, postvaluesctr, value=0) "
   ]
  },
  {
   "cell_type": "markdown",
   "id": "1ea6cd70",
   "metadata": {},
   "source": [
    "---\n",
    "\n",
    "## Conclusions\n",
    "\n",
    "Please provide your conclusions after the analyses and your recommendation whether we may or may not implement the changes in the digital product."
   ]
  },
  {
   "cell_type": "code",
   "execution_count": 7,
   "id": "e04b3a04",
   "metadata": {},
   "outputs": [],
   "source": [
    "# your-conclusions\n",
    "\n",
    "#H0: Changes after 21st November result in worst results for group 1\n",
    "#H1: Changes after 21st November result in better results for group 1 \n",
    "#alpha = 0.5\n",
    "#The hypothesis can't be rejected, the changes shouldn't be implemented\n"
   ]
  },
  {
   "cell_type": "markdown",
   "id": "4c014b7f",
   "metadata": {},
   "source": [
    "---"
   ]
  }
 ],
 "metadata": {
  "kernelspec": {
   "display_name": "Python (m2_env)",
   "language": "python",
   "name": "m2_env"
  },
  "language_info": {
   "codemirror_mode": {
    "name": "ipython",
    "version": 3
   },
   "file_extension": ".py",
   "mimetype": "text/x-python",
   "name": "python",
   "nbconvert_exporter": "python",
   "pygments_lexer": "ipython3",
   "version": "3.9.18"
  }
 },
 "nbformat": 4,
 "nbformat_minor": 5
}
